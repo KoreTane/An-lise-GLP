{
  "nbformat": 4,
  "nbformat_minor": 0,
  "metadata": {
    "colab": {
      "provenance": [],
      "authorship_tag": "ABX9TyOIuYEcibsZD+tpkk+cRB22",
      "include_colab_link": true
    },
    "kernelspec": {
      "name": "python3",
      "display_name": "Python 3"
    },
    "language_info": {
      "name": "python"
    }
  },
  "cells": [
    {
      "cell_type": "markdown",
      "metadata": {
        "id": "view-in-github",
        "colab_type": "text"
      },
      "source": [
        "<a href=\"https://colab.research.google.com/github/KoreTane/An-lise-GLP/blob/main/An%C3%A1lisePre%C3%A7oGLP.ipynb\" target=\"_parent\"><img src=\"https://colab.research.google.com/assets/colab-badge.svg\" alt=\"Open In Colab\"/></a>"
      ]
    },
    {
      "cell_type": "code",
      "source": [
        "#!pip install pyspark"
      ],
      "metadata": {
        "colab": {
          "base_uri": "https://localhost:8080/"
        },
        "id": "8nuqcXhcLaPK",
        "outputId": "d58513ac-21ae-4d18-bda1-95b4776d9f77"
      },
      "execution_count": 1,
      "outputs": [
        {
          "output_type": "stream",
          "name": "stdout",
          "text": [
            "Collecting pyspark\n",
            "  Downloading pyspark-3.5.3.tar.gz (317.3 MB)\n",
            "\u001b[2K     \u001b[90m━━━━━━━━━━━━━━━━━━━━━━━━━━━━━━━━━━━━━━━━\u001b[0m \u001b[32m317.3/317.3 MB\u001b[0m \u001b[31m5.0 MB/s\u001b[0m eta \u001b[36m0:00:00\u001b[0m\n",
            "\u001b[?25h  Preparing metadata (setup.py) ... \u001b[?25l\u001b[?25hdone\n",
            "Requirement already satisfied: py4j==0.10.9.7 in /usr/local/lib/python3.10/dist-packages (from pyspark) (0.10.9.7)\n",
            "Building wheels for collected packages: pyspark\n",
            "  Building wheel for pyspark (setup.py) ... \u001b[?25l\u001b[?25hdone\n",
            "  Created wheel for pyspark: filename=pyspark-3.5.3-py2.py3-none-any.whl size=317840625 sha256=10b6b8aff5f22ee2a0b0d4720505074b66b420e6b801c1b18409b2e307cc0a15\n",
            "  Stored in directory: /root/.cache/pip/wheels/1b/3a/92/28b93e2fbfdbb07509ca4d6f50c5e407f48dce4ddbda69a4ab\n",
            "Successfully built pyspark\n",
            "Installing collected packages: pyspark\n",
            "Successfully installed pyspark-3.5.3\n"
          ]
        }
      ]
    },
    {
      "cell_type": "code",
      "execution_count": 1,
      "metadata": {
        "colab": {
          "base_uri": "https://localhost:8080/"
        },
        "id": "7whtvyopJ-9W",
        "outputId": "54168051-059c-4634-87e8-cab23ef8a2a1"
      },
      "outputs": [
        {
          "output_type": "stream",
          "name": "stdout",
          "text": [
            "Drive already mounted at /content/drive; to attempt to forcibly remount, call drive.mount(\"/content/drive\", force_remount=True).\n",
            "Dados do DataFrame unido:\n",
            "root\n",
            " |-- Regiao - Sigla: string (nullable = true)\n",
            " |-- Estado - Sigla: string (nullable = true)\n",
            " |-- Municipio: string (nullable = true)\n",
            " |-- Revenda: string (nullable = true)\n",
            " |-- CNPJ da Revenda: string (nullable = true)\n",
            " |-- Nome da Rua: string (nullable = true)\n",
            " |-- Numero Rua: string (nullable = true)\n",
            " |-- Complemento: string (nullable = true)\n",
            " |-- Bairro: string (nullable = true)\n",
            " |-- Cep: string (nullable = true)\n",
            " |-- Produto: string (nullable = true)\n",
            " |-- Data da Coleta: string (nullable = true)\n",
            " |-- Valor de Venda: string (nullable = true)\n",
            " |-- Valor de Compra: string (nullable = true)\n",
            " |-- Unidade de Medida: string (nullable = true)\n",
            " |-- Bandeira: string (nullable = true)\n",
            "\n",
            "+-------+--------------+--------------+----------+--------------------+-------------------+--------------------+------------------+-----------------+--------------+---------+-------+--------------+------------------+---------------+-----------------+---------+\n",
            "|summary|Regiao - Sigla|Estado - Sigla| Municipio|             Revenda|    CNPJ da Revenda|         Nome da Rua|        Numero Rua|      Complemento|        Bairro|      Cep|Produto|Data da Coleta|    Valor de Venda|Valor de Compra|Unidade de Medida| Bandeira|\n",
            "+-------+--------------+--------------+----------+--------------------+-------------------+--------------------+------------------+-----------------+--------------+---------+-------+--------------+------------------+---------------+-----------------+---------+\n",
            "|  count|        362128|        362128|    362128|              362128|             362128|              362128|            362128|            90598|        362060|   362128| 362128|        362128|            362128|              0|           362128|   362128|\n",
            "|   mean|          NULL|          NULL|      NULL|                NULL|               NULL|                NULL| 1272.890348441087|540.9074252651881|          36.0|     NULL|   NULL|          NULL|106.16901049050185|           NULL|             NULL|     NULL|\n",
            "| stddev|          NULL|          NULL|      NULL|                NULL|               NULL|                NULL|3107.2048637355642|634.9825896078127|           0.0|     NULL|   NULL|          NULL|  12.3859763491785|           NULL|             NULL|     NULL|\n",
            "|    min|            CO|            AC|ABAETETUBA| CAINELLI BEBIDAS...| 00.008.501/0001-14| (205 SUL ) ACSV ...|                 -|                 |15 DE NOVEMBRO|00000-000|    GLP|    01/01/2024|               100|           NULL|       R$ / 13 kg|AMAZONGÁS|\n",
            "|    max|            SE|            TO|  XINGUARA| ZULMA MARIA RIBEIRO| 98.036.239/0005-40|VILA LINHA SCUSSI...|                sn|     ÁGUAS NEGRAS|  ÁGUAS CLARAS|99709-510|    GLP|    31/10/2023|             99,99|           NULL|       R$ / 13 kg| ULTRAGAZ|\n",
            "+-------+--------------+--------------+----------+--------------------+-------------------+--------------------+------------------+-----------------+--------------+---------+-------+--------------+------------------+---------------+-----------------+---------+\n",
            "\n",
            "+--------------+--------------+-----------------+-------------------------------------------+-------------------+----------------------------------------+----------+----------------+----------------------+---------+-------+--------------+--------------+---------------+-----------------+--------------------+\n",
            "|Regiao - Sigla|Estado - Sigla|Municipio        |Revenda                                    |CNPJ da Revenda    |Nome da Rua                             |Numero Rua|Complemento     |Bairro                |Cep      |Produto|Data da Coleta|Valor de Venda|Valor de Compra|Unidade de Medida|Bandeira            |\n",
            "+--------------+--------------+-----------------+-------------------------------------------+-------------------+----------------------------------------+----------+----------------+----------------------+---------+-------+--------------+--------------+---------------+-----------------+--------------------+\n",
            "|CO            |MS            |CAMPO GRANDE     |COMPANHIA ULTRAGAZ S A                     | 61.602.199/0024-09|RUA AMARO CASTRO LIMA                   |1852      |NULL            |VILA NOVA CAMPO GRANDE|79106-361|GLP    |05/01/2023    |120           |NULL           |R$ / 13 kg       |ULTRAGAZ            |\n",
            "|CO            |MS            |CAMPO GRANDE     |SUPERGASBRAS ENERGIA LTDA                  | 19.791.896/0086-91|RUA   NILO JAVARI BAREM                 |841       |NULL            |VILA ELIANE           |79103-280|GLP    |05/01/2023    |120           |NULL           |R$ / 13 kg       |SUPERGASBRAS ENERGIA|\n",
            "|S             |RS            |PELOTAS          |SUPERGASBRAS ENERGIA LTDA                  | 19.791.896/0020-65|AVENIDA PRESIDENTE JOÃO BELCHIOR GOULART|7565      |NULL            |FRAGATA               |96040-000|GLP    |03/01/2023    |108           |NULL           |R$ / 13 kg       |SUPERGASBRAS ENERGIA|\n",
            "|SE            |MG            |MONTES CLAROS    |SUPERGASBRAS ENERGIA LTDA                  | 19.791.896/0070-24|AVENIDA DEP. PLINIO RIBEIRO             |3220      |NULL            |JARDIM PALMEIRAS      |39402-194|GLP    |05/01/2023    |120           |NULL           |R$ / 13 kg       |SUPERGASBRAS ENERGIA|\n",
            "|NE            |CE            |JUAZEIRO DO NORTE|COMERCIO DE PETROLEO COLORADO LTDA         | 00.198.451/0001-85|RUA DOMINGOS CALAZANS                   |518       |NULL            |TRIANGULO             |63041-130|GLP    |05/01/2023    |109           |NULL           |R$ / 13 kg       |NACIONAL GÁS BUTANO |\n",
            "|NE            |BA            |ITABUNA          |BAHIANA DISTRIBUIDORA DE GÁS LTDA          | 46.395.687/0041-08|ROD BR 415                              |5075      |KM 04           |CENTRO INDUSTRIAL     |45613-000|GLP    |03/01/2023    |105           |NULL           |R$ / 13 kg       |BAHIANA             |\n",
            "|NE            |CE            |MARACANAU        |J P COMERCIO VAREJISTA DE COMBUSTIVEIS LTDA| 08.286.434/0001-01|AVENIDA VI (CJ JEREISSATI I)            |579       |NULL            |JEREISSATI I          |61900-670|GLP    |05/01/2023    |109           |NULL           |R$ / 13 kg       |LIQUIGÁS            |\n",
            "|NE            |CE            |MARACANAU        |POSTO BOTO LTDA                            | 03.020.995/0001-40|AVENIDA PADRE JOSE HOLANDA DO VALE      |809       |NULL            |PIRATININGA           |61905-000|GLP    |05/01/2023    |110           |NULL           |R$ / 13 kg       |NACIONAL GÁS BUTANO |\n",
            "|CO            |DF            |BRASILIA         |AUTO SHOPPING DERIVADOS DE PETROLEO LTDA   | 37.063.328/0009-14| QI 19 LOTES 02 E 04                    |S/N       |SETOR INDUSTRIAL|TAGUATINGA            |72120-190|GLP    |04/01/2023    |97,99         |NULL           |R$ / 13 kg       |ULTRAGAZ            |\n",
            "|CO            |DF            |BRASILIA         |CASCOL COMBUSTIVEIS PARA VEICULOS LTDA     | 00.306.597/0015-00|QUADRA QR 516 CONJUNTO 13B LOTE LOTE    |1         |NULL            |SAMAMBAIA SUL         |70772-500|GLP    |04/01/2023    |104,99        |NULL           |R$ / 13 kg       |ULTRAGAZ            |\n",
            "+--------------+--------------+-----------------+-------------------------------------------+-------------------+----------------------------------------+----------+----------------+----------------------+---------+-------+--------------+--------------+---------------+-----------------+--------------------+\n",
            "only showing top 10 rows\n",
            "\n"
          ]
        }
      ],
      "source": [
        "from pyspark.sql import SparkSession\n",
        "from google.colab import drive\n",
        "import warnings\n",
        "warnings.filterwarnings(\"ignore\", category=FutureWarning)\n",
        "\n",
        "drive.mount('/content/drive')\n",
        "\n",
        "spark = SparkSession.builder \\\n",
        "    .appName(\"Análise de Preços do GLP\") \\\n",
        "    .getOrCreate()\n",
        "\n",
        "# Caminho para a pasta no Google Drive onde os arquivos Parquet estão armazenados (convertemos anteriormente do formato CVS para parquet)\n",
        "parquet_folder_path = '/content/drive/My Drive/1dhA5CNHrywBWHxOgPRyLalCBmNVbCLof/'\n",
        "\n",
        "# Lista de arquivos Parquet\n",
        "parquet_files = [\n",
        "    'glp2023-01.parquet',\n",
        "    'glp2023-02.parquet',\n",
        "    'glp2024-01.parquet',\n",
        "    'precosglp2024-07.parquet',\n",
        "    'precosglp2024-08.parquet'\n",
        "]\n",
        "\n",
        "parquet_dataframes = {\n",
        "    file: spark.read.parquet(f'{parquet_folder_path}{file}')\n",
        "    for file in parquet_files\n",
        "}\n",
        "\n",
        "union_df = (\n",
        "    parquet_dataframes['glp2023-01.parquet']\n",
        "    .union(parquet_dataframes['glp2023-02.parquet'])\n",
        "    .union(parquet_dataframes['glp2024-01.parquet'])\n",
        "    .union(parquet_dataframes['precosglp2024-07.parquet'])\n",
        "    .union(parquet_dataframes['precosglp2024-08.parquet'])\n",
        ")\n",
        "\n",
        "print(\"Dados do DataFrame unido:\")\n",
        "union_df.printSchema()\n",
        "\n",
        "union_df.describe().show()\n",
        "\n",
        "union_df.show(10, truncate=False)"
      ]
    }
  ]
}